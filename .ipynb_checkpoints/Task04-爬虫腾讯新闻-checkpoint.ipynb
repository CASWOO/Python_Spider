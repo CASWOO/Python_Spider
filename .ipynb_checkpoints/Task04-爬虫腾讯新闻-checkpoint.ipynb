{
 "cells": [
  {
   "cell_type": "code",
   "execution_count": null,
   "metadata": {},
   "outputs": [],
   "source": [
    "\n",
    "from  selenium import webdriver\n",
    "import time\n",
    "from bs4 import BeautifulSoup\n",
    "driver=webdriver.Chrome(executable_path=\".\\chromedriver.exe\")\n",
    "driver.get(\"https://news.qq.com\")\n",
    "\n",
    "for i in range(1,10):\n",
    "    time.sleep(2)\n",
    "    driver.execute_script(\"window.scrollTo(window.scrollX, %d);\"%(i*200))\n",
    "    \n",
    "\n",
    "html=driver.page_source\n",
    "bs=BeautifulSoup(html,\"lxml\")\n",
    "datas=bs.find_all(\"div\",{\"class\":\"jx-tit\"})[0].find_next_sibling().find_all(\"li\")\n",
    "\n",
    "print(\"index\",\",\",\"title\",\",\",\"url\")\n",
    "for i,j in enumerate(datas):    \n",
    "    try:\n",
    "        text=j.find_all(\"img\")[0][\"alt\"]\n",
    "    except:\n",
    "        text=j.find_all(\"div\",{\"class\":\"lazyload-placeholder\"})[0].text\n",
    "    try:\n",
    "        url=j.find_all(\"a\")[0][\"href\"]\n",
    "    except:\n",
    "        print(j)\n",
    "    print(i+1,\",\",text,\",\",url) \n"
   ]
  }
 ],
 "metadata": {
  "kernelspec": {
   "display_name": "Python 3",
   "language": "python",
   "name": "python3"
  },
  "language_info": {
   "codemirror_mode": {
    "name": "ipython",
    "version": 3
   },
   "file_extension": ".py",
   "mimetype": "text/x-python",
   "name": "python",
   "nbconvert_exporter": "python",
   "pygments_lexer": "ipython3",
   "version": "3.7.6"
  }
 },
 "nbformat": 4,
 "nbformat_minor": 4
}
