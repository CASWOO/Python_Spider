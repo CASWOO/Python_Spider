{
 "cells": [
  {
   "cell_type": "markdown",
   "metadata": {},
   "source": [
    "# Chrome的开发者模式\n",
    "在“Network”面板勾选“Preserve log”复选框，然后进行登录，就可以记录HTTP POST信息，查看发送的表单信息详情。之后在贴吧首页开启开发者工具后再登录时，就可以看到下图所示的信息，其中“Form Data”就包含向服务器发送的表单信息详情。\n",
    "![avatar](https://i.loli.net/2020/04/21/dh3jAurZO8MzKlW.png)"
   ]
  },
  {
   "cell_type": "markdown",
   "metadata": {},
   "source": [
    "# 爬虫豆瓣电影TOP250"
   ]
  },
  {
   "cell_type": "code",
   "execution_count": null,
   "metadata": {},
   "outputs": [],
   "source": [
    "from bs4 import BeautifulSoup\n",
    "import requests\n",
    "import os\n",
    "\n",
    "\n",
    "def get_html(web_url):\n",
    "        header = {\n",
    "            \"User-Agent\": \"Mozilla/5.0 (Windows; U; Windows NT 6.1; en-US) AppleWebKit/534.16 (KHTML, like Gecko) Chrome/10.0.648.133 Safari/534.16\"}\n",
    "        html = requests.get(url=web_url, headers=header).text\n",
    "        Soup = BeautifulSoup(html, \"lxml\")\n",
    "        data = Soup.find(\"ol\").find_all(\"li\")\n",
    "        return data\n",
    "\n",
    "\n",
    "def get_info(all_move):\n",
    "        f = open(\"douban.txt\", \"a\")\n",
    "\n",
    "        for info in all_move:\n",
    "            #    排名\n",
    "            nums = info.find('em')\n",
    "            num = nums.get_text()\n",
    "\n",
    "            pictures=info.find('img')\n",
    "            picture=pictures.get('src')\n",
    "            #    名字\n",
    "            names = info.find(\"span\")  \n",
    "            name = names.get_text()\n",
    "\n",
    "            #    导演\n",
    "            charactors = info.find(\"p\")  \n",
    "            charactor = charactors.get_text().replace(\" \", \"\").replace(\"\\n\", \"\")  # 使信息排列规律\n",
    "            charactor = charactor.replace(\"\\xa0\", \"\").replace(\"\\xee\", \"\").replace(\"\\xf6\", \"\").replace(\"\\u0161\", \"\").replace(\n",
    "                \"\\xf4\", \"\").replace(\"\\xfb\", \"\").replace(\"\\u2027\", \"\").replace(\"\\xe5\", \"\")\n",
    "\n",
    "            #    评语\n",
    "            remarks = info.find_all(\"span\", {\"class\": \"inq\"})\n",
    "            if remarks:  # 这个判断是因为有的电影没有评语，你需要做判断\n",
    "                remark = remarks[0].get_text().replace(\"\\u22ef\", \"\")\n",
    "            else:\n",
    "                remark = \"此影片没有评价\"\n",
    "            print(remarks)\n",
    "\n",
    "            # 评分\n",
    "            scores = info.find_all(\"span\", {\"class\": \"rating_num\"})\n",
    "            score = scores[0].get_text()\n",
    "\n",
    "            f.write(num + '、')\n",
    "            f.write(name + \"\\n\")\n",
    "            f.write(picture + \"\\n\")\n",
    "            f.write(charactor + \"\\n\")\n",
    "            f.write(remark + \"\\n\")\n",
    "            f.write(score)\n",
    "            f.write(\"\\n\\n\")\n",
    "\n",
    "        f.close()  # 记得关闭文件\n",
    "\n",
    "\n",
    "if __name__ == \"__main__\":\n",
    "\n",
    "        if os.path.exists(\"douban.txt\") == True:\n",
    "            os.remove(\"douban.txt\")\n",
    "\n",
    "        page = 0  # 初始化页数，TOP一共有250部   每页25部\n",
    "        while page <= 225:\n",
    "            web_url = \"https://movie.douban.com/top250?start=%s&filter=\" % page\n",
    "            all_move = get_html(web_url)  # 返回每一页的网页\n",
    "            get_info(all_move)  # 匹配对应信息存入本地\n",
    "            page += 25"
   ]
  },
  {
   "cell_type": "code",
   "execution_count": null,
   "metadata": {},
   "outputs": [],
   "source": []
  }
 ],
 "metadata": {
  "kernelspec": {
   "display_name": "Python 3",
   "language": "python",
   "name": "python3"
  },
  "language_info": {
   "codemirror_mode": {
    "name": "ipython",
    "version": 3
   },
   "file_extension": ".py",
   "mimetype": "text/x-python",
   "name": "python",
   "nbconvert_exporter": "python",
   "pygments_lexer": "ipython3",
   "version": "3.7.6"
  }
 },
 "nbformat": 4,
 "nbformat_minor": 4
}
